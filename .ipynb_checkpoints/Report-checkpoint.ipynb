{
 "cells": [
  {
   "cell_type": "markdown",
   "id": "02defdc6-f934-476e-8aed-d136484afd96",
   "metadata": {},
   "source": [
    "# Final Report"
   ]
  },
  {
   "cell_type": "markdown",
   "id": "5c44d15b-c266-48fa-b505-8ebc7956f4ae",
   "metadata": {},
   "source": [
    "### Introduction\n",
    "\n",
    "This project investigates the relationship between sector trend and S&P 500 index trend during the 2020 market crash. Specifically, this project attempts to determine if different stock sectors reacted differently to the \"big dip\" around March, 2020.  "
   ]
  },
  {
   "cell_type": "markdown",
   "id": "ae9d378a-4584-4721-81d1-1bbf2888ed74",
   "metadata": {},
   "source": [
    "### Background\n",
    "\n",
    "The [S&P 500](https://en.wikipedia.org/wiki/S%26P_500), or Standard and Poor's 500, is a weighted measurement of the stock market index. It consists of 500 of the largest comapnies in the US. This project specifically focuses on the S&P 500 stocks during the period of the [2020 stock market crash](https://en.wikipedia.org/wiki/2020_stock_market_crash), which is from late February to early April. This crush occurred because investors were worried about the impact of the COVID-19 pandemic.\n",
    "\n",
    "There are three datasets used in this project, and they provided information and insights on [the general index](https://www.kaggle.com/arashnic/time-series-forecasting-with-yahoo-stock-price), [individual stock data](https://www.kaggle.com/nroll12/sp-500-full-dataset), and [the sector data](https://www.kaggle.com/paytonfisher/sp-500-companies-with-financial-information). All these three datasets are provided by [kaggle](https://www.kaggle.com/), an online community of data scientists and machine learning practitioners. More deatils about the privacy policies, licenses, and the terms of use can be found in the README file."
   ]
  },
  {
   "cell_type": "markdown",
   "id": "d258f299-fad3-4a61-b45d-cbe09128a70e",
   "metadata": {},
   "source": [
    "### Research questions\n",
    "\n",
    "How did each sector respond to the major stock market crashes (for instance, did the health care sector have a better performance than the energy sector?)"
   ]
  },
  {
   "cell_type": "markdown",
   "id": "1a1b40fc-009b-446f-b195-7b2036c3e861",
   "metadata": {},
   "source": [
    "### Methodology\n",
    "I first gathered the S&P 500 general index data from the [first dataset](https://www.kaggle.com/arashnic/time-series-forecasting-with-yahoo-stock-price) and filtered it according to the time period I pre-determined, which is from 02/10/2020 to 04/17/2020 (10 days prior and after the crash period.) \n",
    "\n",
    "The [second dataset](https://www.kaggle.com/nroll12/sp-500-full-dataset) I used contains individual S&P 500 stock data. I trimed this dataset using the same process I used for the first dataset so that I only get rows within the pre-determined time frame. I also used a [third dataset](https://www.kaggle.com/paytonfisher/sp-500-companies-with-financial-information) that contains the fiancial information for some of the individual stocks to categorize the individual stocks according to their own sector. A small problem I ran into was that the second and thrid dataset contain slightly different stock symbols. As a result, among the 505 trimed individual stocks, 63 individual stocks are not categoried (12.5%.) And here is the number of stocks in each sector:    \n",
    "    \n",
    "    Industrials: 58  \n",
    "    Real Estate: 28  \n",
    "    Energy: 23  \n",
    "    Information Technology: 64  \n",
    "    Utilities: 26  \n",
    "    Telecommunication Services: 4  \n",
    "    Financials: 59  \n",
    "    Consumer Discretionary: 71  \n",
    "    Materials: 22  \n",
    "    Consumer Staples: 32  \n",
    "    Health Care: 55  \n",
    "    Not categorized: 63  \n",
    "    \n",
    "That being said, even though some stocks are not categorized, the majority of the data (87.5%) are still valid for further investigation. \n",
    "\n"
   ]
  },
  {
   "cell_type": "markdown",
   "id": "232889a6-a1f2-4c84-b929-78e71b0f4927",
   "metadata": {},
   "source": [
    "### Findings\n",
    "\n",
    "Suprisingly, different sectors seem to react to the market crush more or less the same. Specifically, all the sectors had a dip at the end of Feburary, then they gradually decline from the beginning of March to mid-March, and there were two small spikes for all of them on around March 12th and March 16th. Even though the degree of the spikes are slightly different -- for instance, the spike on March 16th is relatively large for utilities and cousmer staples, but smaller for the rest of the sectors -- the shape around that period is oddly similar among all categories. And of course, the price rose gradually from late March to mid-April in smilar fashions for all the sectors. \n",
    "\n",
    "Again, different sectors have more or less the same trend during the 2020 stock market crush. Moreover, individual stocks in the same sector appear to have similar trends as well. Disregarding the difference in magnitude, the shapes of the individual stock trends are really similar. However, there are outliers to this finding. For instance, there is one stock in the \"energy\" sector that started low in late Febuary and early March and then had a little spkied in mid-March while the rest of the energy stocks were plummeting. And in the \"Consumer Discretionary\" sector, there is one stock that didn't follow the pattern of the rest of the stocks in that category in between 03/15 and 04/15. But given the number of outliers in comparsion to the totoal number of stocks, it is safe to say that most stocks in the same sector do tend to follow the same pattern."
   ]
  },
  {
   "cell_type": "markdown",
   "id": "71c97ace-ab66-462d-8b91-316194361f46",
   "metadata": {},
   "source": [
    "### Discussion \n",
    "(including Limitations and Implications)"
   ]
  },
  {
   "cell_type": "markdown",
   "id": "234df58b-a72e-4947-b91a-f62cf220ff22",
   "metadata": {},
   "source": [
    "### Conclusion"
   ]
  },
  {
   "cell_type": "markdown",
   "id": "fc500b0d-8aac-420a-83ab-3b99a3e530a5",
   "metadata": {},
   "source": [
    "### References\n",
    "\n",
    "Index data: https://www.kaggle.com/arashnic/time-series-forecasting-with-yahoo-stock-price\n",
    "\n",
    "Individual stock data: https://www.kaggle.com/nroll12/sp-500-full-dataset\n",
    "\n",
    "Sector data: https://www.kaggle.com/paytonfisher/sp-500-companies-with-financial-information"
   ]
  },
  {
   "cell_type": "code",
   "execution_count": null,
   "id": "01115525-5a33-4ea9-bd39-5d4442bf8620",
   "metadata": {},
   "outputs": [],
   "source": []
  }
 ],
 "metadata": {
  "kernelspec": {
   "display_name": "Python 3",
   "language": "python",
   "name": "python3"
  },
  "language_info": {
   "codemirror_mode": {
    "name": "ipython",
    "version": 3
   },
   "file_extension": ".py",
   "mimetype": "text/x-python",
   "name": "python",
   "nbconvert_exporter": "python",
   "pygments_lexer": "ipython3",
   "version": "3.8.8"
  }
 },
 "nbformat": 4,
 "nbformat_minor": 5
}
