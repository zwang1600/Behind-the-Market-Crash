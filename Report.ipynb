{
 "cells": [
  {
   "cell_type": "markdown",
   "id": "02defdc6-f934-476e-8aed-d136484afd96",
   "metadata": {},
   "source": [
    "# Final Report"
   ]
  },
  {
   "cell_type": "markdown",
   "id": "5c44d15b-c266-48fa-b505-8ebc7956f4ae",
   "metadata": {},
   "source": [
    "### Introduction\n",
    "\n",
    "This project investigates the relationship between sector trend and S&P 500 index trend during the 2020 market crash. Specifically, this project attempts to determine if different stock sectors reacted differently to the \"big dip\" around March, 2020."
   ]
  },
  {
   "cell_type": "markdown",
   "id": "db60f12f-0f07-42ad-88f1-ac8c1a01ab40",
   "metadata": {},
   "source": [
    "### Motivation\n",
    "\n",
    "This project helps us to better understand if there're potential opportunities to profit even during the time of a market crush. For instance, this project investigates the possibility of a sector reacting \"abnormally\" -- it increases when the general market isn't performing well. Specifically for this project, close attention can be paid to the health care sector because COVID-19 was the biggest reason for the market crash.\n",
    "\n",
    "Speaking of COVID, another motivation is to better understand the relationship between sector responses to a disaster, like the pandemic. Correlations can be potentially found between sector reactions and the cause of the crash.\n",
    "\n",
    "And a personal motivation is to better understand the market as a whole, as well as conducting research related to this topic. "
   ]
  },
  {
   "cell_type": "markdown",
   "id": "ae9d378a-4584-4721-81d1-1bbf2888ed74",
   "metadata": {},
   "source": [
    "### Background\n",
    "\n",
    "The [S&P 500](https://en.wikipedia.org/wiki/S%26P_500), or Standard and Poor's 500, is a weighted measurement of the stock market index. It consists of 500 of the largest comapnies in the US. This project specifically focuses on the S&P 500 stocks during the period of the [2020 stock market crash](https://en.wikipedia.org/wiki/2020_stock_market_crash), which is from late February to early April. This crush occurred because investors were worried about the impact of the COVID-19 pandemic.\n",
    "\n",
    "There are three datasets used in this project, and they provided information and insights on [the general index](https://www.kaggle.com/arashnic/time-series-forecasting-with-yahoo-stock-price), [individual stock data](https://www.kaggle.com/nroll12/sp-500-full-dataset), and [the sector data](https://www.kaggle.com/paytonfisher/sp-500-companies-with-financial-information). All these three datasets are provided by [kaggle](https://www.kaggle.com/), an online community of data scientists and machine learning practitioners. More details about the privacy policies, licenses, and the terms of use can be found in the README file."
   ]
  },
  {
   "cell_type": "markdown",
   "id": "d258f299-fad3-4a61-b45d-cbe09128a70e",
   "metadata": {},
   "source": [
    "### Research questions\n",
    "\n",
    "How did each sector respond to the major stock market crashes (for instance, did the health care sector have a better performance than the energy sector?)"
   ]
  },
  {
   "cell_type": "markdown",
   "id": "1a1b40fc-009b-446f-b195-7b2036c3e861",
   "metadata": {},
   "source": [
    "### Methodology\n",
    "The S&P 500 general index data were gathered from the [first dataset](https://www.kaggle.com/arashnic/time-series-forecasting-with-yahoo-stock-price) and filtered according to the predetermined time period, which is from 02/10/2020 to 04/17/2020. According to Wikipedia, the period of the crash started on February 20th and ended on April 7th. And by adding 10 days before and after that time period, a more complete picture can be observed.\n",
    "\n",
    "The [second dataset](https://www.kaggle.com/nroll12/sp-500-full-dataset) used contains individual S&P 500 stock data. This dataset was trimmed using the same process used for the first dataset. After trimming, only rows within the predetermined time frame remained. A [third dataset](https://www.kaggle.com/paytonfisher/sp-500-companies-with-financial-information) was also used along with the trimming process. This dataset contains the financial information for the individual stocks in the S&P 500. And with this information, the individual stocks were categorized according to their own sector. A small problem occured due to the fact that the second and the third dataset contain slightly different stock symbols. Consequently, among the 505 trimmed individual stocks, 63 individual stocks were not categorized (12.5%.) However, that being said, even though some stocks were not categorized, the majority of the data (87.5%) were still valid for further investigation. And here is the distribution of the 505 individual stocks according to their sector:\n",
    "    \n",
    "    Industrials: 58  \n",
    "    Real Estate: 28  \n",
    "    Energy: 23  \n",
    "    Information Technology: 64  \n",
    "    Utilities: 26  \n",
    "    Telecommunication Services: 4  \n",
    "    Financials: 59  \n",
    "    Consumer Discretionary: 71  \n",
    "    Materials: 22  \n",
    "    Consumer Staples: 32  \n",
    "    Health Care: 55  \n",
    "    Not categorized: 63  \n",
    "\n",
    "The first set of investigations were conducted by graphing all the individual stock trendlines (in red) within their sector, along with the general index trend graphed in black. Specifically, all 58 industrial stocks were graphed with the general index trend in one picture frame. Achieving this required the help of [matplotlib twinx](https://matplotlib.org/stable/api/_as_gen/matplotlib.axes.Axes.twinx.html). The process included traversing through the sector subfolders, gathering data in each csv file, and plotting the trendlines regardless of the y-axis (because the stock price varies dramatically, ranging from a few cents to thousands of dollars.) After generating the graphs properly, trendlines should be at the same level and ready to be compared. One note is that only the data under the 'Close' columns (the closing price of the stock) are considered for all the investigations in this project.\n",
    "\n",
    "The second set of investigations were conducted by graphing the trends of the sum of stocks in each sector, and comparing to the general index trend. The sums were calculated by traversing through all the csv files in each sector subfolder and adding the data to the right index (sorted by date) in the predefined array. These arrays are then used to graph the trendlines of the sum of each sector.\n",
    "\n",
    "The last set of investigations were conducted by visualizing the percent of fluctuations in between trading days. Firstly, since the dataset for the general index contains weekends and holidays (it is just the same price as the trading day before,) trimming was again needed to get rid of the non-trading-day data. After trimming, the fluctuations were calculated using the formula ``current day price - previous day price) / previous day price``. Lastly, the visualization was created to better analyze the data."
   ]
  },
  {
   "cell_type": "markdown",
   "id": "232889a6-a1f2-4c84-b929-78e71b0f4927",
   "metadata": {},
   "source": [
    "### Findings\n",
    "\n",
    "In the first set of investigations, it was observed that most individual stocks in the same sector appeared to have similar trends. Disregarding the difference in magnitude, the shapes of the individual stock trends were really similar. However, there were outliers to this finding. For instance, there was one stock in the \"energy\" sector that started low in late February and early March and then had a little spike in mid-March while the rest of the energy stocks were plummeting. And in the \"Consumer Discretionary\" sector, there was one stock that didn't follow the pattern of the rest of the stocks in that category in between 03/15 and 04/15. But given the number of outliers in comparison to the total number of stocks, it is safe to say that most stocks in the same sector do tend to follow the same pattern.\n",
    "\n",
    "![Sector Trendlines](Data/sector_trendline.png)\n",
    "In the second set of investigations, surprisingly, different sectors seemed to react to the market crush more or less the same. Specifically, all the sectors had a dip at the end of February, then they gradually declined from the beginning of March to mid-March, and there were two small spikes for all of them on around March 12th and March 16th. Even though the degree of the spikes were slightly different -- for instance, the spike on March 16th was relatively large for utilities and consumer staples, but smaller for the rest of the sectors -- the shape around that period was oddly similar among all categories. And of course, the price rose gradually from late March to mid-April in similar fashions for all the sectors. Again, different sectors had more or less the same trend during the 2020 stock market crush.\n",
    "\n",
    "![Sector Fluctuation](Data/sector_fluctuation.png)\n",
    "In the third set of investigations, more insights were provided to the findings observed in the second set. Specifically, while the trends of the fluctuations were again in the same shape as the general index (except on outlier being the energy sector on March 9th,) the differences in fluctuation percentage (the difference between sector fluctuation and the index fluctuation) were not too small to be disregarded. Out of the 517 comparisons (11 times 47,) 15(2.9%) of the fluctuation percentage were larger than 5%, 51(9.9%) were larger than 3%, and 108(20.9%) were larger than 2%. "
   ]
  },
  {
   "cell_type": "markdown",
   "id": "71c97ace-ab66-462d-8b91-316194361f46",
   "metadata": {},
   "source": [
    "### Discussion \n",
    "\n",
    "The biggest limitation for this project is the lack of quantitative comparison. For instance, scatter plots can be compared with the line of best fit and the R value. But for stock trendlines, it is hard to come up with a good statistical way to compare and contrast, especially when there are more than a few trendlines. As a result, most of the findings for this project are based on intuition and visualizations, with some, but not a lot of data analysis.\n",
    "\n",
    "However, this project should provide some useful insights during the 2020 stock market crush. One of the most important findings being the similarity between sector trends and the index trend. This implies that crushes likely drag everything down, and no sector is an exception to that. According to the visualization, there was no sector that reacted \"abnormally.\" Therefore, for future references, it is probably not a good idea to invest in a sector while the market is plummeting, even when investing in the healthcare industry during the crush caused by COVID-19."
   ]
  },
  {
   "cell_type": "markdown",
   "id": "234df58b-a72e-4947-b91a-f62cf220ff22",
   "metadata": {},
   "source": [
    "### Conclusion\n",
    "\n",
    "Even though there existed a difference in fluctuation percentage, as suggested in the third set of the investigations, the rest of the visualizations pointed out that all the trendlines of the sectors had a very similar shape as the general index trend. Moreover, different sectors appear to have a similar reaction to the 2020 stock market crush. "
   ]
  }
 ],
 "metadata": {
  "kernelspec": {
   "display_name": "Python 3",
   "language": "python",
   "name": "python3"
  },
  "language_info": {
   "codemirror_mode": {
    "name": "ipython",
    "version": 3
   },
   "file_extension": ".py",
   "mimetype": "text/x-python",
   "name": "python",
   "nbconvert_exporter": "python",
   "pygments_lexer": "ipython3",
   "version": "3.8.8"
  }
 },
 "nbformat": 4,
 "nbformat_minor": 5
}
